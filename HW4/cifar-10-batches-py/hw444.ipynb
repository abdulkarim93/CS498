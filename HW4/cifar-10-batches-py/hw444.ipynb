{
 "cells": [
  {
   "cell_type": "code",
   "execution_count": 66,
   "metadata": {
    "collapsed": true
   },
   "outputs": [],
   "source": [
    "import pickle\n",
    "import numpy as np\n",
    "import matplotlib.pyplot as plt\n",
    "from sklearn.decomposition import PCA # for (a), PCA analysis\n",
    "from sklearn.manifold import MDS # for (b), PCoA or MDS"
   ]
  },
  {
   "cell_type": "code",
   "execution_count": 60,
   "metadata": {
    "collapsed": true
   },
   "outputs": [],
   "source": [
    "# from website, take input\n",
    "def unpickle(file):\n",
    "    with open(file, 'rb') as fo:\n",
    "        dict = pickle.load(fo, encoding='bytes')\n",
    "    return dict\n",
    "\n",
    "# draw images\n",
    "def draw_img(img):\n",
    "    plt.figure(figsize=(3,3))\n",
    "    img = img.astype('uint8') # img value => [0-255] => should be uint8\n",
    "    red = img[:1024].reshape((32,32)) # The first 1024 the red\n",
    "    green = img[1024:2048].reshape((32,32)) # the next 1024 the green\n",
    "    blue = img[2048:].reshape((32,32)) # the final 1024 the blue\n",
    "    plt.imshow(np.dstack((red,green,blue)))\n",
    "    plt.show()\n"
   ]
  },
  {
   "cell_type": "code",
   "execution_count": 25,
   "metadata": {
    "collapsed": true
   },
   "outputs": [],
   "source": [
    "# source: https://www.cs.toronto.edu/~kriz/cifar.html\n",
    "meta = unpickle('hw4/batches.meta')\n",
    "batch_size = meta[b'num_cases_per_batch']\n",
    "pixel_size = meta[b'num_vis']\n",
    "categories = [meta.decode('utf8') for meta in meta[b'label_names']] # convert byte type to string type\n",
    "batch_num = 6 # num of batches, including test_batch\n",
    "\n",
    "raw = []\n",
    "for i in range(1, batch_num):\n",
    "    raw.append(unpickle('hw4/data_batch_' + str(i))) # data_batch_1 to data_batch_5\n",
    "raw.append(unpickle('hw4/test_batch'))\n",
    "\n",
    "data = np.zeros((batch_size * batch_num, pixel_size))\n",
    "label = np.zeros((batch_size * batch_num, ))\n",
    "\n",
    "# split raw into data and label\n",
    "for i in range(batch_num):\n",
    "    min_bound = (i) * batch_size\n",
    "    max_bound = (i + 1) * batch_size\n",
    "    data[min_bound:max_bound,:] = raw[i][b'data']\n",
    "    label[min_bound:max_bound] = raw[i][b'labels']"
   ]
  },
  {
   "cell_type": "code",
   "execution_count": null,
   "metadata": {
    "collapsed": true
   },
   "outputs": [],
   "source": [
    "#(a)For each category, compute the mean image and the first 20 principal\n",
    "#components(PCA). Plot the error resulting from representing the images of each\n",
    "#category using the first 20 principal components against the category."
   ]
  },
  {
   "cell_type": "code",
   "execution_count": 13,
   "metadata": {},
   "outputs": [],
   "source": [
    "#######     Warning: This part takes a long time      #######\n",
    "\n",
    "# split data into categories by label\n",
    "categorized_data = []\n",
    "num_category = len(categories)\n",
    "for i in range(num_category):\n",
    "    categorized_data.append(data[label==i])\n",
    "categorized_data = np.array(categorized_data)\n",
    "\n",
    "total_components = categorized_data.shape[2]\n",
    "comps = np.zeros((num_category, 20, total_components)) # for PC\n",
    "errors = np.zeros(num_category) # for error\n",
    "\n",
    "# compute the mean image\n",
    "mean_data = np.mean(categorized_data,axis=1)\n",
    "for i in range(10):\n",
    "    draw_img(mean_data[i])\n",
    "    \n",
    "# first 20 PCs\n",
    "for i in range(num_category):\n",
    "    pca = PCA(n_components = total_components)\n",
    "    pca.fit(categorized_data[i])\n",
    "    comps[i] = pca.components_[:20]\n",
    "    errors[i] = sum(pca.explained_variance_[20:])\n",
    "\n",
    "# plot error result of using first 20 PCs\n",
    "x = np.arange(num_category)\n",
    "plt.bar(x, errors, alpha=0.5)\n",
    "plt.ylabel('error')\n",
    "plt.xticks(x, categories)\n",
    "plt.show()\n",
    "\n",
    "#######     Warning: This part takes a long time      #######"
   ]
  },
  {
   "cell_type": "code",
   "execution_count": null,
   "metadata": {
    "collapsed": true
   },
   "outputs": [],
   "source": [
    "#(b) Compute the distances between mean images for each pair of classes. Use\n",
    "#principal coordinate analysis(PCoA) to make a 2D map of the means of each\n",
    "#categories. For this exercise, compute distances by thinking of the images\n",
    "#as vectors."
   ]
  },
  {
   "cell_type": "code",
   "execution_count": 69,
   "metadata": {},
   "outputs": [
    {
     "name": "stdout",
     "output_type": "stream",
     "text": [
      "['airplane', 'automobile', 'bird', 'cat', 'deer', 'dog', 'frog', 'horse', 'ship', 'truck']\n"
     ]
    },
    {
     "data": {
      "image/png": "[encoded data removed]",
      "text/plain": [
       "<matplotlib.figure.Figure at 0x22385cc26d8>"
      ]
     },
     "metadata": {},
     "output_type": "display_data"
    }
   ],
   "source": [
    "# compute the distances between mean images\n",
    "distance = np.zeros((num_category,num_category))\n",
    "for i in range(num_category):\n",
    "    for j in range(i, num_category):\n",
    "        # https://stackoverflow.com/questions/1401712/how-can-the-euclidean-distance-be-calculated-with-numpy\n",
    "        tmp = np.linalg.norm(mean_data[i] - mean_data[j])\n",
    "        distance[i][j] = tmp\n",
    "        distance[j][i] = tmp\n",
    "\n",
    "mds = MDS(n_components=2, dissimilarity='euclidean')\n",
    "mds_fit = mds.fit_transform(mean_data)\n",
    "plt.scatter(mds_fit[:, 0], mds_fit[:, 1])\n",
    "for i in range(num_category):\n",
    "    plt.annotate(categories[i], (mds_fit[i,0],mds_fit[i,1]))\n",
    "plt.show()"
   ]
  }
 ],
 "metadata": {
  "kernelspec": {
   "display_name": "Python 3",
   "language": "python",
   "name": "python3"
  },
  "language_info": {
   "codemirror_mode": {
    "name": "ipython",
    "version": 3
   },
   "file_extension": ".py",
   "mimetype": "text/x-python",
   "name": "python",
   "nbconvert_exporter": "python",
   "pygments_lexer": "ipython3",
   "version": "3.6.0"
  }
 },
 "nbformat": 4,
 "nbformat_minor": 2
}

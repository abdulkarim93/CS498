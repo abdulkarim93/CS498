{
 "cells": [
  {
   "cell_type": "code",
   "execution_count": 82,
   "metadata": {},
   "outputs": [],
   "source": [
    "import numpy as np\n",
    "import pandas as pd\n",
    "from sklearn.decomposition import PCA\n",
    "import matplotlib.pyplot as plt\n",
    "import matplotlib.image as mpimg\n",
    "from collections import defaultdict\n",
    "from sklearn.metrics import mean_squared_error\n",
    "from math import sqrt\n",
    "from sklearn.manifold import MDS\n",
    "\n",
    "%matplotlib inline"
   ]
  },
  {
   "cell_type": "code",
   "execution_count": 2,
   "metadata": {},
   "outputs": [],
   "source": [
    "def unpickle(file):\n",
    "    import pickle\n",
    "    with open(file, 'rb') as fo:\n",
    "        dict = pickle.load(fo, encoding='bytes')\n",
    "    return dict\n",
    "\n",
    "def plot(img):\n",
    "    plt.imshow(img.reshape(3,1024).T.reshape(32,32,3))\n",
    "    plt.show()\n",
    "\n",
    "def calc_dist(img1,img2):\n",
    "    return 0"
   ]
  },
  {
   "cell_type": "code",
   "execution_count": 3,
   "metadata": {},
   "outputs": [],
   "source": [
    "data_batch_1 = unpickle(\"cifar-10-batches-py/data_batch_1\")\n",
    "data_batch_2 = unpickle(\"cifar-10-batches-py/data_batch_2\")\n",
    "data_batch_3 = unpickle(\"cifar-10-batches-py/data_batch_3\")\n",
    "data_batch_4 = unpickle(\"cifar-10-batches-py/data_batch_4\")\n",
    "data_batch_5 = unpickle(\"cifar-10-batches-py/data_batch_5\")\n",
    "test_batch = unpickle(\"cifar-10-batches-py/test_batch\")\n",
    "batch_meta =unpickle(\"cifar-10-batches-py/batches.meta\")"
   ]
  },
  {
   "cell_type": "code",
   "execution_count": 6,
   "metadata": {},
   "outputs": [],
   "source": [
    "labels = batch_meta[b'label_names']\n",
    "\n",
    "# squeeze 5 data batches into one by data \n",
    "data1 = data_batch_1[b'data']\n",
    "data2 = data_batch_2[b'data']\n",
    "data3 = data_batch_3[b'data']\n",
    "data4 = data_batch_4[b'data']\n",
    "data5 = data_batch_5[b'data']\n",
    "\n",
    "data_set = np.concatenate((data1,data2,data3,data4,data5))\n",
    "\n",
    "# squeeze 5 data batches into one by labe\n",
    "label1 = data_batch_1[b'labels']\n",
    "label2 = data_batch_2[b'labels']\n",
    "label3 = data_batch_3[b'labels']\n",
    "label4 = data_batch_4[b'labels']\n",
    "label5 = data_batch_5[b'labels']\n",
    "\n",
    "label_set = np.concatenate((label1,label2,label3,label4,label5))\n",
    "\n",
    "category = [[],[],[],[],[],[],[],[],[],[]]\n",
    "for i in range (len(data_set)):\n",
    "    category[label_set[i]].append(data_set[i])\n",
    "\n",
    "category = np.asarray(category)\n",
    "mean_image = np.mean(category,axis=1)\n",
    "mean_image = mean_image.astype(\"uint8\")"
   ]
  },
  {
   "cell_type": "code",
   "execution_count": 50,
   "metadata": {},
   "outputs": [],
   "source": [
    "error = []\n",
    "pc = []\n",
    "for i in category:\n",
    "    pca = PCA(n_components=i.shape[1])\n",
    "    pca.fit(np.asmatrix(i))\n",
    "    pc.append(pca.components_[:20])\n",
    "    error.append(sum(pca.explained_variance_[20:]))"
   ]
  },
  {
   "cell_type": "code",
   "execution_count": 59,
   "metadata": {},
   "outputs": [
    {
     "data": {
      "text/plain": [
       "Text(0,0.5,'error')"
      ]
     },
     "execution_count": 59,
     "metadata": {},
     "output_type": "execute_result"
    },
    {
     "data": {
      "image/png": "[encoded data removed]",
      "text/plain": [
       "<matplotlib.figure.Figure at 0x1a1f7cb4a8>"
      ]
     },
     "metadata": {},
     "output_type": "display_data"
    }
   ],
   "source": [
    "fig = plt.bar(range(10),error)\n",
    "plt.xticks(range(10))\n",
    "plt.title(\"Error for each category\")\n",
    "plt.xlabel(\"category\")\n",
    "plt.ylabel(\"error\")"
   ]
  },
  {
   "cell_type": "code",
   "execution_count": 76,
   "metadata": {},
   "outputs": [],
   "source": [
    "mat = np.zeros((mean_image.shape[0],mean_image.shape[0]))"
   ]
  },
  {
   "cell_type": "code",
   "execution_count": 80,
   "metadata": {},
   "outputs": [],
   "source": [
    "for i in range(mean_image.shape[0]):\n",
    "    for j in range(mean_image.shape[0]):\n",
    "        mat[i][j] = sqrt(sum((mean_image[i]-mean_image[j])**2))"
   ]
  },
  {
   "cell_type": "code",
   "execution_count": 135,
   "metadata": {},
   "outputs": [],
   "source": [
    "mds = MDS(n_components=2,random_state=None)\n",
    "mds_fit = mds.fit_transform(mean_image)"
   ]
  },
  {
   "cell_type": "code",
   "execution_count": 152,
   "metadata": {},
   "outputs": [
    {
     "data": {
      "image/png": "[encoded data removed]",
      "text/plain": [
       "<matplotlib.figure.Figure at 0x1a226eadd8>"
      ]
     },
     "metadata": {},
     "output_type": "display_data"
    }
   ],
   "source": [
    "plt.scatter(mds_fit[:, 0], mds_fit[:, 1])\n",
    "for i in range(category.shape[0]):\n",
    "    plt.annotate(list(map(lambda x: str(x)[2:-1],labels))[i], (mds_fit[i,0],mds_fit[i,1]))\n",
    "plt.show()"
   ]
  },
  {
   "cell_type": "code",
   "execution_count": null,
   "metadata": {},
   "outputs": [],
   "source": []
  }
 ],
 "metadata": {
  "kernelspec": {
   "display_name": "Python 3",
   "language": "python",
   "name": "python3"
  },
  "language_info": {
   "codemirror_mode": {
    "name": "ipython",
    "version": 3
   },
   "file_extension": ".py",
   "mimetype": "text/x-python",
   "name": "python",
   "nbconvert_exporter": "python",
   "pygments_lexer": "ipython3",
   "version": "3.6.4"
  }
 },
 "nbformat": 4,
 "nbformat_minor": 2
}

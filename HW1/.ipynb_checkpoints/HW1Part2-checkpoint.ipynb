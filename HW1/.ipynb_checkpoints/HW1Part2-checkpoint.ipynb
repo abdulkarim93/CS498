{
 "cells": [
  {
   "cell_type": "code",
   "execution_count": 1,
   "metadata": {},
   "outputs": [
    {
     "ename": "ModuleNotFoundError",
     "evalue": "No module named 'sklearn.transform'",
     "output_type": "error",
     "traceback": [
      "\u001b[0;31m---------------------------------------------------------------------------\u001b[0m",
      "\u001b[0;31mModuleNotFoundError\u001b[0m                       Traceback (most recent call last)",
      "\u001b[0;32m<ipython-input-1-927784192490>\u001b[0m in \u001b[0;36m<module>\u001b[0;34m()\u001b[0m\n\u001b[1;32m      3\u001b[0m \u001b[0;32mimport\u001b[0m \u001b[0mmatplotlib\u001b[0m\u001b[0;34m.\u001b[0m\u001b[0mpyplot\u001b[0m \u001b[0;32mas\u001b[0m \u001b[0mplt\u001b[0m\u001b[0;34m\u001b[0m\u001b[0m\n\u001b[1;32m      4\u001b[0m \u001b[0;32mfrom\u001b[0m \u001b[0mcollections\u001b[0m \u001b[0;32mimport\u001b[0m \u001b[0mCounter\u001b[0m\u001b[0;34m\u001b[0m\u001b[0m\n\u001b[0;32m----> 5\u001b[0;31m \u001b[0;32mfrom\u001b[0m \u001b[0msklearn\u001b[0m\u001b[0;34m.\u001b[0m\u001b[0mtransform\u001b[0m \u001b[0;32mimport\u001b[0m \u001b[0mresize\u001b[0m\u001b[0;34m\u001b[0m\u001b[0m\n\u001b[0m\u001b[1;32m      6\u001b[0m \u001b[0;32mimport\u001b[0m \u001b[0mcsv\u001b[0m\u001b[0;34m\u001b[0m\u001b[0m\n\u001b[1;32m      7\u001b[0m \u001b[0;32mfrom\u001b[0m \u001b[0msklearn\u001b[0m\u001b[0;34m.\u001b[0m\u001b[0mmetrics\u001b[0m \u001b[0;32mimport\u001b[0m \u001b[0maccuracy_score\u001b[0m\u001b[0;34m\u001b[0m\u001b[0m\n",
      "\u001b[0;31mModuleNotFoundError\u001b[0m: No module named 'sklearn.transform'"
     ]
    }
   ],
   "source": [
    "import numpy as np\n",
    "import pandas as pd\n",
    "import matplotlib.pyplot as plt\n",
    "from collections import Counter\n",
    "from skimage.transform import resize\n",
    "import csv\n",
    "from sklearn.metrics import accuracy_score\n",
    "from sklearn.naive_bayes import GaussianNB\n",
    "from sklearn.naive_bayes import BernoulliNB\n",
    "from sklearn.ensemble import RandomForestClassifier"
   ]
  },
  {
   "cell_type": "code",
   "execution_count": null,
   "metadata": {},
   "outputs": [],
   "source": [
    "def bounding_box(u):\n",
    "    minx = 27\n",
    "    miny = 27\n",
    "    maxx = 0\n",
    "    maxy = 0\n",
    "    u = np.reshape(u, (28, 28))\n",
    "    for x in range (28):\n",
    "        for y in range (28):\n",
    "            if u[x][y] > 0:\n",
    "                if x < minx:\n",
    "                    minx = x\n",
    "                if y < miny:\n",
    "                    miny = y\n",
    "                if x > maxx:\n",
    "                    maxx = x\n",
    "                if y > maxy:\n",
    "                    maxy = y\n",
    "    v = u[minx:maxx+1][miny:maxy+1]\n",
    "    v = resize(v,(20,20))\n",
    "    v = np.reshape(v, (400))\n",
    "    return v\n"
   ]
  },
  {
   "cell_type": "code",
   "execution_count": null,
   "metadata": {},
   "outputs": [],
   "source": [
    "def array_to_csv(name,array):\n",
    "    with open(name,'wt') as csvfile:\n",
    "        writer = csv.writer(csvfile)\n",
    "        writer.writerow(('ImageId','Label'))\n",
    "        for i in range(len(array)):\n",
    "            writer.writerow((i , array[i]))"
   ]
  },
  {
   "cell_type": "code",
   "execution_count": null,
   "metadata": {},
   "outputs": [],
   "source": [
    "def Gaussian_NB(train_set,train_label,test_set,val_set,val_label):\n",
    "    classifier = GaussianNB()\n",
    "    classifier.fit(train_set,train_label)\n",
    "    accuracy = accuracy_score(val_label, classifier.predict(val_set))\n",
    "    print(accuracy)\n",
    "    return classifier.predict(test_set)"
   ]
  },
  {
   "cell_type": "code",
   "execution_count": null,
   "metadata": {},
   "outputs": [],
   "source": [
    "def Bernoulli_NB(train_set,train_label,test_set,val_set,val_label):\n",
    "    classifier = BernoulliNB()\n",
    "    classifier.fit(train_set,train_label)\n",
    "    accuracy = accuracy_score(val_label, classifier.predict(val_set))\n",
    "    print(accuracy)\n",
    "    return classifier.predict(test_set)"
   ]
  },
  {
   "cell_type": "code",
   "execution_count": null,
   "metadata": {},
   "outputs": [],
   "source": [
    "def Decision_Forest(train_set,train_label,test_set,trees,depth,val_set,val_label):\n",
    "    classifier = RandomForestClassifier(n_estimators =trees, max_depth=depth)\n",
    "    classifier.fit(train_set,train_label)\n",
    "    accuracy = accuracy_score(val_label, classifier.predict(val_set))\n",
    "    print(accuracy)\n",
    "    return classifier.predict(test_set)"
   ]
  },
  {
   "cell_type": "code",
   "execution_count": null,
   "metadata": {},
   "outputs": [],
   "source": [
    "def drawpic(test_label, test_data):\n",
    "    num = []\n",
    "    array = np.zeros((10, 28*28))\n",
    "    count = Counter(test_label)\n",
    "    for i in range(10):\n",
    "        num.append(count[i])\n",
    "        \n",
    "    for i in range(20000):\n",
    "        label = test_label[i]\n",
    "        for j in range(28*28):\n",
    "            if(test_data[i][j] > 0):\n",
    "                array[label][j] += int(test_data[i][j])/(num[label]*255)\n",
    "    draw_figure =plt.figure(figsize=(10,10))\n",
    "    for i in range(10):\n",
    "        draw_figure.add_subplot(1, 10, i+1)        \n",
    "        plt.imshow(array[i].reshape((28,28)), cmap=\"gray\")\n",
    "    plt.show()"
   ]
  },
  {
   "cell_type": "code",
   "execution_count": null,
   "metadata": {},
   "outputs": [],
   "source": [
    "train_set = pd.read_csv(\"/Users/Sunny/Desktop/CS498/HW1/train.csv\").as_matrix()\n",
    "test_set = pd.read_csv(\"/Users/Sunny/Desktop/CS498/HW1/test.csv\",header=None).as_matrix()\n",
    "val_set = pd.read_csv(\"/Users/Sunny/Desktop/CS498/HW1/val.csv\").as_matrix()\n",
    "\n",
    "train_label = train_set[:,1]\n",
    "train_untouched =train_set[:,2:]\n",
    "train_stretched = [bounding_box(row) for row in train_untouched]\n",
    "\n",
    "val_label = val_set[:,0]\n",
    "val_untouched = val_set[:,1:]\n",
    "val_stretched = [bounding_box(row.reshape(784)) for row in val_untouched]\n"
   ]
  },
  {
   "cell_type": "code",
   "execution_count": null,
   "metadata": {},
   "outputs": [],
   "source": [
    "Gaussian_untouched  = Gaussian_NB(train_untouched,train_label,test_set,val_untouched,val_label)\n",
    "Gaussian_stretched  = Gaussian_NB(train_stretched,train_label,test_stretched,val_stretched,val_label)\n",
    "Bernoulli_untouched = Bernoulli_NB(train_untouched,train_label,test_set,val_untouched,val_label)\n",
    "Bernoulli_stretched = Bernoulli_NB(train_stretched,train_label,test_stretched,val_stretched,val_label)\n",
    "\n",
    "Decision_Forest_untouched104 = Decision_Forest(train_untouched,train_label,test_set,10,4,val_untouched,val_label)\n",
    "Decision_Forest_stretched104 = Decision_Forest(train_stretched,train_label,test_stretched,10,4,val_stretched,val_label)\n",
    "Decision_Forest_untouched1016 = Decision_Forest(train_untouched,train_label,test_set,10,16,val_untouched,val_label)\n",
    "Decision_Forest_stretched1016 = Decision_Forest(train_stretched,train_label,test_stretched,10,16,val_stretched,val_label)\n",
    "Decision_Forest_untouched304 = Decision_Forest(train_untouched,train_label,test_set,30,4,val_untouched,val_label)\n",
    "Decision_Forest_stretched304 = Decision_Forest(train_stretched,train_label,test_stretched,30,4,val_stretched,val_label)\n",
    "Decision_Forest_untouched3016 = Decision_Forest(train_untouched,train_label,test_set,30,16,val_untouched,val_label)\n",
    "Decision_Forest_stretched3016 = Decision_Forest(train_stretched,train_label,test_stretched,30,16,val_stretched,val_label)\n",
    "\n",
    "drawpic(Gaussian_untouched, test_set)\n",
    "drawpic(Gaussian_stretched, test_set)\n",
    "drawpic(Bernoulli_untouched, test_set)\n",
    "drawpic(Bernoulli_stretched, test_set)\n"
   ]
  },
  {
   "cell_type": "code",
   "execution_count": null,
   "metadata": {},
   "outputs": [],
   "source": [
    "array_to_csv('xinyigu2_1.csv',Gaussian_untouched)\n",
    "array_to_csv('xinyigu2_2.csv',Gaussian_stretched)\n",
    "array_to_csv('xinyigu2_3.csv',Bernoulli_untouched)\n",
    "array_to_csv('xinyigu2_4.csv',Bernoulli_stretched)\n",
    "\n",
    "array_to_csv('xinyigu2_5.csv',Decision_Forest_untouched104)\n",
    "array_to_csv('xinyigu2_6.csv',Decision_Forest_stretched104)\n",
    "array_to_csv('xinyigu2_7.csv',Decision_Forest_untouched1016)\n",
    "array_to_csv('xinyigu2_8.csv',Decision_Forest_stretched1016)\n",
    "array_to_csv('xinyigu2_9.csv',Decision_Forest_untouched304)\n",
    "array_to_csv('xinyigu2_10.csv',Decision_Forest_stretched304)\n",
    "array_to_csv('xinyigu2_11.csv',Decision_Forest_untouched3016)\n",
    "array_to_csv('xinyigu2_12.csv',Decision_Forest_stretched3016)"
   ]
  }
 ],
 "metadata": {
  "kernelspec": {
   "display_name": "Python 3",
   "language": "python",
   "name": "python3"
  },
  "language_info": {
   "codemirror_mode": {
    "name": "ipython",
    "version": 3
   },
   "file_extension": ".py",
   "mimetype": "text/x-python",
   "name": "python",
   "nbconvert_exporter": "python",
   "pygments_lexer": "ipython3",
   "version": "3.6.4"
  }
 },
 "nbformat": 4,
 "nbformat_minor": 2
}

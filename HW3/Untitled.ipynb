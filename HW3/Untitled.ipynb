{
 "cells": [
  {
   "cell_type": "code",
   "execution_count": 236,
   "metadata": {},
   "outputs": [],
   "source": [
    "import numpy as np\n",
    "import pandas as pd\n",
    "import math\n",
    "import random\n",
    "import csv\n",
    "from sklearn.decomposition import PCA\n",
    "from sklearn.metrics import mean_squared_error\n",
    "\n",
    "data1 = pd.read_csv(\"/Users/Sunny/Desktop/CS498/HW3/hw3-data/dataI.csv\").as_matrix()\n",
    "data2 = pd.read_csv(\"/Users/Sunny/Desktop/CS498/HW3/hw3-data/dataII.csv\").as_matrix() \n",
    "data3 = pd.read_csv(\"/Users/Sunny/Desktop/CS498/HW3/hw3-data/dataIII.csv\").as_matrix()\n",
    "data4 = pd.read_csv(\"/Users/Sunny/Desktop/CS498/HW3/hw3-data/dataIV.csv\").as_matrix()\n",
    "data5 = pd.read_csv(\"/Users/Sunny/Desktop/CS498/HW3/hw3-data/dataV.csv\").as_matrix()\n",
    "iris  = pd.read_csv(\"/Users/Sunny/Desktop/CS498/HW3/hw3-data/iris.csv\").as_matrix()    \n",
    "def pca_rep(data,fit, pc):\n",
    "    mean = np.mean(data, axis=0)\n",
    "    pca = PCA(n_components = pc)\n",
    "    pca = pca.fit(fit)\n",
    "    Xhat = np.dot(pca.transform(data)[:,:pc], pca.components_[:pc,:])\n",
    "    Xhat += mean\n",
    "    return Xhat\n",
    "\n",
    "def pca_rep_nl(data,fit, pc):\n",
    "    mean = np.mean(fit, axis=0)\n",
    "    pca = PCA()\n",
    "    pca = pca.fit(fit)\n",
    "    Xhat = np.dot(pca.transform(data)[:,:pc], pca.components_[:pc,:])\n",
    "    Xhat += mean\n",
    "    return Xhat\n",
    "\n",
    "def get_mse(data,pc):\n",
    "    datare = pca_rep(data,iris,pc)\n",
    "    mse = mean_squared_error(iris,datare)*4\n",
    "    return mse\n",
    "\n",
    "with open('xinyigu2-recon.csv','wt') as csvfile:\n",
    "    writer = csv.writer(csvfile)\n",
    "    writer.writerow((\"X1\",\"X2\",\"X3\",\"X4\"))\n",
    "    array =  pca_rep(data2,data2,2)\n",
    "    for i in range(len(array)):\n",
    "        writer.writerow((array[i]))\n"
   ]
  },
  {
   "cell_type": "code",
   "execution_count": null,
   "metadata": {},
   "outputs": [],
   "source": []
  },
  {
   "cell_type": "code",
   "execution_count": null,
   "metadata": {},
   "outputs": [],
   "source": []
  }
 ],
 "metadata": {
  "kernelspec": {
   "display_name": "Python 3",
   "language": "python",
   "name": "python3"
  },
  "language_info": {
   "codemirror_mode": {
    "name": "ipython",
    "version": 3
   },
   "file_extension": ".py",
   "mimetype": "text/x-python",
   "name": "python",
   "nbconvert_exporter": "python",
   "pygments_lexer": "ipython3",
   "version": "3.6.4"
  }
 },
 "nbformat": 4,
 "nbformat_minor": 2
}
